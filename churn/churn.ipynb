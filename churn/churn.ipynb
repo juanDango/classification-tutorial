{
 "cells": [
  {
   "cell_type": "markdown",
   "id": "10fc4c26-292e-409b-a47a-0d6a250c7b53",
   "metadata": {},
   "source": [
    "<a href=\"https://colab.research.google.com/github/datascience-uniandes/classification_tutorial/blob/master/churn/churn.ipynb\" target=\"_parent\"><img src=\"https://colab.research.google.com/assets/colab-badge.svg\" alt=\"Open In Colab\"/></a>"
   ]
  },
  {
   "cell_type": "markdown",
   "id": "2773d4b5-281e-42f7-84a9-adfb5514cb97",
   "metadata": {},
   "source": [
    "# Classification: Detecting churn probability and causes\n",
    "\n",
    "MINE-4101: Applied Data Science  \n",
    "Univerisdad de los Andes  \n",
    "  \n",
    "Last update: October, 2023"
   ]
  },
  {
   "cell_type": "code",
   "execution_count": 4,
   "id": "4cc60e19-dc08-4181-b929-3136410993c5",
   "metadata": {},
   "outputs": [
    {
     "name": "stdout",
     "output_type": "stream",
     "text": [
      "Name: shap\n",
      "Version: 0.46.0\n",
      "Summary: A unified approach to explain the output of any machine learning model.\n",
      "Home-page: \n",
      "Author: \n",
      "Author-email: Scott Lundberg <slund1@cs.washington.edu>\n",
      "License: MIT License\n",
      "Location: /Users/juandanielcastrellon/Documents/Universidad/Maestría/Semestre1/CienciaDeDatos/Modulo2/Clasificacion/classification-tutorial/env/lib/python3.11/site-packages\n",
      "Requires: cloudpickle, numba, numpy, packaging, pandas, scikit-learn, scipy, slicer, tqdm\n",
      "Required-by: \n"
     ]
    }
   ],
   "source": [
    "!pip show shap"
   ]
  },
  {
   "cell_type": "code",
   "execution_count": 7,
   "id": "1ccd76e4-a4ea-4a75-8f0c-258220a0f201",
   "metadata": {},
   "outputs": [
    {
     "ename": "ImportError",
     "evalue": "Numba needs NumPy 2.0 or less. Got NumPy 2.1.",
     "output_type": "error",
     "traceback": [
      "\u001b[0;31m---------------------------------------------------------------------------\u001b[0m",
      "\u001b[0;31mImportError\u001b[0m                               Traceback (most recent call last)",
      "Cell \u001b[0;32mIn[7], line 25\u001b[0m\n\u001b[1;32m     21\u001b[0m \u001b[38;5;28;01mfrom\u001b[39;00m \u001b[38;5;21;01msklearn\u001b[39;00m\u001b[38;5;21;01m.\u001b[39;00m\u001b[38;5;21;01mmetrics\u001b[39;00m \u001b[38;5;28;01mimport\u001b[39;00m precision_score, recall_score, f1_score, roc_curve, roc_auc_score, auc\n\u001b[1;32m     23\u001b[0m \u001b[38;5;66;03m#from pandas_profiling import ProfileReport\u001b[39;00m\n\u001b[0;32m---> 25\u001b[0m \u001b[38;5;28;01mimport\u001b[39;00m \u001b[38;5;21;01mshap\u001b[39;00m\n",
      "File \u001b[0;32m~/Documents/Universidad/Maestría/Semestre1/CienciaDeDatos/Modulo2/Clasificacion/classification-tutorial/env/lib/python3.11/site-packages/shap/__init__.py:1\u001b[0m\n\u001b[0;32m----> 1\u001b[0m \u001b[38;5;28;01mfrom\u001b[39;00m \u001b[38;5;21;01m.\u001b[39;00m\u001b[38;5;21;01m_explanation\u001b[39;00m \u001b[38;5;28;01mimport\u001b[39;00m Cohorts, Explanation\n\u001b[1;32m      3\u001b[0m \u001b[38;5;66;03m# explainers\u001b[39;00m\n\u001b[1;32m      4\u001b[0m \u001b[38;5;28;01mfrom\u001b[39;00m \u001b[38;5;21;01m.\u001b[39;00m\u001b[38;5;21;01mexplainers\u001b[39;00m \u001b[38;5;28;01mimport\u001b[39;00m other\n",
      "File \u001b[0;32m~/Documents/Universidad/Maestría/Semestre1/CienciaDeDatos/Modulo2/Clasificacion/classification-tutorial/env/lib/python3.11/site-packages/shap/_explanation.py:13\u001b[0m\n\u001b[1;32m     10\u001b[0m \u001b[38;5;28;01mimport\u001b[39;00m \u001b[38;5;21;01msklearn\u001b[39;00m\n\u001b[1;32m     11\u001b[0m \u001b[38;5;28;01mfrom\u001b[39;00m \u001b[38;5;21;01mslicer\u001b[39;00m \u001b[38;5;28;01mimport\u001b[39;00m Alias, Obj, Slicer\n\u001b[0;32m---> 13\u001b[0m \u001b[38;5;28;01mfrom\u001b[39;00m \u001b[38;5;21;01m.\u001b[39;00m\u001b[38;5;21;01mutils\u001b[39;00m\u001b[38;5;21;01m.\u001b[39;00m\u001b[38;5;21;01m_exceptions\u001b[39;00m \u001b[38;5;28;01mimport\u001b[39;00m DimensionError\n\u001b[1;32m     14\u001b[0m \u001b[38;5;28;01mfrom\u001b[39;00m \u001b[38;5;21;01m.\u001b[39;00m\u001b[38;5;21;01mutils\u001b[39;00m\u001b[38;5;21;01m.\u001b[39;00m\u001b[38;5;21;01m_general\u001b[39;00m \u001b[38;5;28;01mimport\u001b[39;00m OpChain\n\u001b[1;32m     16\u001b[0m op_chain_root \u001b[38;5;241m=\u001b[39m OpChain(\u001b[38;5;124m\"\u001b[39m\u001b[38;5;124mshap.Explanation\u001b[39m\u001b[38;5;124m\"\u001b[39m)\n",
      "File \u001b[0;32m~/Documents/Universidad/Maestría/Semestre1/CienciaDeDatos/Modulo2/Clasificacion/classification-tutorial/env/lib/python3.11/site-packages/shap/utils/__init__.py:1\u001b[0m\n\u001b[0;32m----> 1\u001b[0m \u001b[38;5;28;01mfrom\u001b[39;00m \u001b[38;5;21;01m.\u001b[39;00m\u001b[38;5;21;01m_clustering\u001b[39;00m \u001b[38;5;28;01mimport\u001b[39;00m (\n\u001b[1;32m      2\u001b[0m     delta_minimization_order,\n\u001b[1;32m      3\u001b[0m     hclust,\n\u001b[1;32m      4\u001b[0m     hclust_ordering,\n\u001b[1;32m      5\u001b[0m     partition_tree,\n\u001b[1;32m      6\u001b[0m     partition_tree_shuffle,\n\u001b[1;32m      7\u001b[0m )\n\u001b[1;32m      8\u001b[0m \u001b[38;5;28;01mfrom\u001b[39;00m \u001b[38;5;21;01m.\u001b[39;00m\u001b[38;5;21;01m_general\u001b[39;00m \u001b[38;5;28;01mimport\u001b[39;00m (\n\u001b[1;32m      9\u001b[0m     OpChain,\n\u001b[1;32m     10\u001b[0m     approximate_interactions,\n\u001b[0;32m   (...)\u001b[0m\n\u001b[1;32m     20\u001b[0m     suppress_stderr,\n\u001b[1;32m     21\u001b[0m )\n\u001b[1;32m     22\u001b[0m \u001b[38;5;28;01mfrom\u001b[39;00m \u001b[38;5;21;01m.\u001b[39;00m\u001b[38;5;21;01m_masked_model\u001b[39;00m \u001b[38;5;28;01mimport\u001b[39;00m MaskedModel, make_masks\n",
      "File \u001b[0;32m~/Documents/Universidad/Maestría/Semestre1/CienciaDeDatos/Modulo2/Clasificacion/classification-tutorial/env/lib/python3.11/site-packages/shap/utils/_clustering.py:8\u001b[0m\n\u001b[1;32m      6\u001b[0m \u001b[38;5;28;01mimport\u001b[39;00m \u001b[38;5;21;01mscipy\u001b[39;00m\u001b[38;5;21;01m.\u001b[39;00m\u001b[38;5;21;01mspatial\u001b[39;00m\n\u001b[1;32m      7\u001b[0m \u001b[38;5;28;01mimport\u001b[39;00m \u001b[38;5;21;01msklearn\u001b[39;00m\n\u001b[0;32m----> 8\u001b[0m \u001b[38;5;28;01mfrom\u001b[39;00m \u001b[38;5;21;01mnumba\u001b[39;00m \u001b[38;5;28;01mimport\u001b[39;00m njit\n\u001b[1;32m     10\u001b[0m \u001b[38;5;28;01mfrom\u001b[39;00m \u001b[38;5;21;01m.\u001b[39;00m\u001b[38;5;21;01m_show_progress\u001b[39;00m \u001b[38;5;28;01mimport\u001b[39;00m show_progress\n\u001b[1;32m     13\u001b[0m \u001b[38;5;28;01mdef\u001b[39;00m \u001b[38;5;21mpartition_tree\u001b[39m(X, metric\u001b[38;5;241m=\u001b[39m\u001b[38;5;124m\"\u001b[39m\u001b[38;5;124mcorrelation\u001b[39m\u001b[38;5;124m\"\u001b[39m):\n",
      "File \u001b[0;32m~/Documents/Universidad/Maestría/Semestre1/CienciaDeDatos/Modulo2/Clasificacion/classification-tutorial/env/lib/python3.11/site-packages/numba/__init__.py:59\u001b[0m\n\u001b[1;32m     54\u001b[0m             msg \u001b[38;5;241m=\u001b[39m (\u001b[38;5;124m\"\u001b[39m\u001b[38;5;124mNumba requires SciPy version 1.0 or greater. Got SciPy \u001b[39m\u001b[38;5;124m\"\u001b[39m\n\u001b[1;32m     55\u001b[0m                    \u001b[38;5;124mf\u001b[39m\u001b[38;5;124m\"\u001b[39m\u001b[38;5;132;01m{\u001b[39;00mscipy\u001b[38;5;241m.\u001b[39m__version__\u001b[38;5;132;01m}\u001b[39;00m\u001b[38;5;124m.\u001b[39m\u001b[38;5;124m\"\u001b[39m)\n\u001b[1;32m     56\u001b[0m             \u001b[38;5;28;01mraise\u001b[39;00m \u001b[38;5;167;01mImportError\u001b[39;00m(msg)\n\u001b[0;32m---> 59\u001b[0m \u001b[43m_ensure_critical_deps\u001b[49m\u001b[43m(\u001b[49m\u001b[43m)\u001b[49m\n\u001b[1;32m     60\u001b[0m \u001b[38;5;66;03m# END DO NOT MOVE\u001b[39;00m\n\u001b[1;32m     61\u001b[0m \u001b[38;5;66;03m# ---------------------- WARNING WARNING WARNING ----------------------------\u001b[39;00m\n\u001b[1;32m     64\u001b[0m \u001b[38;5;28;01mfrom\u001b[39;00m \u001b[38;5;21;01m.\u001b[39;00m\u001b[38;5;21;01m_version\u001b[39;00m \u001b[38;5;28;01mimport\u001b[39;00m get_versions\n",
      "File \u001b[0;32m~/Documents/Universidad/Maestría/Semestre1/CienciaDeDatos/Modulo2/Clasificacion/classification-tutorial/env/lib/python3.11/site-packages/numba/__init__.py:45\u001b[0m, in \u001b[0;36m_ensure_critical_deps\u001b[0;34m()\u001b[0m\n\u001b[1;32m     42\u001b[0m \u001b[38;5;28;01mif\u001b[39;00m numpy_version \u001b[38;5;241m>\u001b[39m (\u001b[38;5;241m2\u001b[39m, \u001b[38;5;241m0\u001b[39m):\n\u001b[1;32m     43\u001b[0m     msg \u001b[38;5;241m=\u001b[39m (\u001b[38;5;124mf\u001b[39m\u001b[38;5;124m\"\u001b[39m\u001b[38;5;124mNumba needs NumPy 2.0 or less. Got NumPy \u001b[39m\u001b[38;5;124m\"\u001b[39m\n\u001b[1;32m     44\u001b[0m            \u001b[38;5;124mf\u001b[39m\u001b[38;5;124m\"\u001b[39m\u001b[38;5;132;01m{\u001b[39;00mnumpy_version[\u001b[38;5;241m0\u001b[39m]\u001b[38;5;132;01m}\u001b[39;00m\u001b[38;5;124m.\u001b[39m\u001b[38;5;132;01m{\u001b[39;00mnumpy_version[\u001b[38;5;241m1\u001b[39m]\u001b[38;5;132;01m}\u001b[39;00m\u001b[38;5;124m.\u001b[39m\u001b[38;5;124m\"\u001b[39m)\n\u001b[0;32m---> 45\u001b[0m     \u001b[38;5;28;01mraise\u001b[39;00m \u001b[38;5;167;01mImportError\u001b[39;00m(msg)\n\u001b[1;32m     47\u001b[0m \u001b[38;5;28;01mtry\u001b[39;00m:\n\u001b[1;32m     48\u001b[0m     \u001b[38;5;28;01mimport\u001b[39;00m \u001b[38;5;21;01mscipy\u001b[39;00m\n",
      "\u001b[0;31mImportError\u001b[0m: Numba needs NumPy 2.0 or less. Got NumPy 2.1."
     ]
    }
   ],
   "source": [
    "from joblib import dump\n",
    "\n",
    "import numpy as np\n",
    "import pandas as pd\n",
    "\n",
    "import matplotlib.pyplot as plt\n",
    "import seaborn as sns\n",
    "\n",
    "from scipy.stats import ks_2samp\n",
    "from sklearn.feature_selection import chi2\n",
    "\n",
    "from sklearn.pipeline import Pipeline\n",
    "from sklearn.compose import ColumnTransformer\n",
    "from sklearn.preprocessing import StandardScaler, MinMaxScaler\n",
    "from sklearn.preprocessing import OrdinalEncoder, OneHotEncoder\n",
    "from sklearn.preprocessing import PolynomialFeatures\n",
    "from sklearn.ensemble import RandomForestClassifier\n",
    "from sklearn.linear_model import LogisticRegression\n",
    "from sklearn.model_selection import GridSearchCV\n",
    "from sklearn.metrics import confusion_matrix, ConfusionMatrixDisplay, RocCurveDisplay\n",
    "from sklearn.metrics import precision_score, recall_score, f1_score, roc_curve, roc_auc_score, auc\n",
    "\n",
    "#from pandas_profiling import ProfileReport\n",
    "\n",
    "import shap"
   ]
  },
  {
   "cell_type": "code",
   "execution_count": null,
   "id": "34a2f9f3-8835-4209-97f0-7d3819c38d73",
   "metadata": {},
   "outputs": [],
   "source": [
    "pd.set_option(\"display.max_columns\", None)\n",
    "pd.set_option(\"display.max_rows\", 100)"
   ]
  },
  {
   "cell_type": "markdown",
   "id": "221aa317-8fa4-47a2-a46f-400f76b71756",
   "metadata": {
    "tags": []
   },
   "source": [
    "### Loading the data"
   ]
  },
  {
   "cell_type": "code",
   "execution_count": null,
   "id": "fc891ffd-9dfc-4c36-a36f-d8202f4943bd",
   "metadata": {},
   "outputs": [],
   "source": [
    "churn_df = pd.read_csv(\"./data/churn_train_val.csv\")\n",
    "test_df = pd.read_csv(\"./data/churn_test_labeled.csv\")"
   ]
  },
  {
   "cell_type": "code",
   "execution_count": null,
   "id": "3ef1ea3f-08cc-4af9-8d34-d4ab65093270",
   "metadata": {},
   "outputs": [],
   "source": [
    "churn_df.shape"
   ]
  },
  {
   "cell_type": "code",
   "execution_count": null,
   "id": "de2883ec-65db-4b84-af41-c73ce04be788",
   "metadata": {},
   "outputs": [],
   "source": [
    "test_df.shape"
   ]
  },
  {
   "cell_type": "code",
   "execution_count": null,
   "id": "aac9cc40-b46a-4a9c-a7ca-a57b7057d04d",
   "metadata": {},
   "outputs": [],
   "source": [
    "churn_df.dtypes"
   ]
  },
  {
   "cell_type": "code",
   "execution_count": null,
   "id": "642dfdf9-3a43-44f1-816f-c42819e3b9cd",
   "metadata": {},
   "outputs": [],
   "source": [
    "churn_df.head()"
   ]
  },
  {
   "cell_type": "code",
   "execution_count": null,
   "id": "478c722c-2569-4189-b97c-fad5e04db123",
   "metadata": {},
   "outputs": [],
   "source": [
    "test_df.head()"
   ]
  },
  {
   "cell_type": "markdown",
   "id": "14cf946d-55cf-4134-92d4-4e510ffd608d",
   "metadata": {},
   "source": [
    "### Profiling the data"
   ]
  },
  {
   "cell_type": "code",
   "execution_count": null,
   "id": "4d4e4568-702f-4d15-bae7-c3c1dd0b06c7",
   "metadata": {},
   "outputs": [],
   "source": [
    "#profile = ProfileReport(churn_df)"
   ]
  },
  {
   "cell_type": "code",
   "execution_count": null,
   "id": "c92cd38e-6d89-4a89-91b4-e1d1e83d307f",
   "metadata": {
    "tags": []
   },
   "outputs": [],
   "source": [
    "#profile.to_notebook_iframe()"
   ]
  },
  {
   "cell_type": "markdown",
   "id": "b0028240-1230-45a7-8934-a7098fc6f00f",
   "metadata": {},
   "source": [
    "### Analyzing relationships between features and target"
   ]
  },
  {
   "cell_type": "code",
   "execution_count": null,
   "id": "96422f74-b275-450d-867a-8f81e9762fd8",
   "metadata": {},
   "outputs": [],
   "source": [
    "churn_df[\"churn\"].value_counts(dropna=False, normalize=True)"
   ]
  },
  {
   "cell_type": "code",
   "execution_count": null,
   "id": "8fcc7580-eda0-419a-9734-f1acd1d29d8f",
   "metadata": {},
   "outputs": [],
   "source": [
    "plt.figure(figsize=(15, 3))\n",
    "sns.boxplot(data=churn_df, x=\"credit_score\", y=\"churn\", showmeans=True, orient=\"h\")\n",
    "plt.title(\"Credit score\")\n",
    "plt.show()"
   ]
  },
  {
   "cell_type": "code",
   "execution_count": null,
   "id": "3063d065-af8f-4ef9-aa2e-b860da964ca3",
   "metadata": {},
   "outputs": [],
   "source": [
    "pd.crosstab(churn_df[\"churn\"], churn_df[\"country\"], normalize=\"columns\")"
   ]
  },
  {
   "cell_type": "code",
   "execution_count": null,
   "id": "9cea97b0-e5ab-4749-8c84-98831618a639",
   "metadata": {},
   "outputs": [],
   "source": [
    "pd.crosstab(churn_df[\"churn\"], churn_df[\"gender\"], normalize=\"columns\")"
   ]
  },
  {
   "cell_type": "code",
   "execution_count": null,
   "id": "eaaa307d-cb33-42d3-8187-e7ab1d7f3ce7",
   "metadata": {},
   "outputs": [],
   "source": [
    "plt.figure(figsize=(15, 3))\n",
    "sns.boxplot(data=churn_df, x=\"age\", y=\"churn\", showmeans=True, orient=\"h\")\n",
    "plt.title(\"Age\")\n",
    "plt.show()"
   ]
  },
  {
   "cell_type": "code",
   "execution_count": null,
   "id": "249a0938-b9da-4e47-892d-5717b427f96b",
   "metadata": {},
   "outputs": [],
   "source": [
    "plt.figure(figsize=(15, 3))\n",
    "sns.boxplot(data=churn_df, x=\"tenure\", y=\"churn\", showmeans=True, orient=\"h\")\n",
    "plt.title(\"Tenure\")\n",
    "plt.show()"
   ]
  },
  {
   "cell_type": "code",
   "execution_count": null,
   "id": "2ad0eeb2-918f-4312-9a7e-57d849363c6e",
   "metadata": {},
   "outputs": [],
   "source": [
    "plt.figure(figsize=(15, 3))\n",
    "sns.boxplot(data=churn_df, x=\"balance\", y=\"churn\", showmeans=True, orient=\"h\")\n",
    "plt.title(\"Balance\")\n",
    "plt.show()"
   ]
  },
  {
   "cell_type": "code",
   "execution_count": null,
   "id": "3023c5fa-e14a-464c-bdc0-2ef392961e73",
   "metadata": {},
   "outputs": [],
   "source": [
    "pd.crosstab(churn_df[\"churn\"], churn_df[\"products_number\"], normalize=\"columns\")"
   ]
  },
  {
   "cell_type": "code",
   "execution_count": null,
   "id": "98bf3574-46e3-4c1d-9b99-6e1b77c823c3",
   "metadata": {},
   "outputs": [],
   "source": [
    "pd.crosstab(churn_df[\"churn\"], churn_df[\"credit_card\"], normalize=\"columns\")"
   ]
  },
  {
   "cell_type": "code",
   "execution_count": null,
   "id": "17005cf8-a1b7-436b-8e1a-a8d1434dcb48",
   "metadata": {},
   "outputs": [],
   "source": [
    "pd.crosstab(churn_df[\"churn\"], churn_df[\"active_member\"], normalize=\"columns\")"
   ]
  },
  {
   "cell_type": "code",
   "execution_count": null,
   "id": "775e1176-e357-43aa-b494-faecce8b196f",
   "metadata": {},
   "outputs": [],
   "source": [
    "plt.figure(figsize=(15, 3))\n",
    "sns.boxplot(data=churn_df, x=\"estimated_salary\", showmeans=True, y=\"churn\", orient=\"h\")\n",
    "plt.title(\"Estimated salary\")\n",
    "plt.show()"
   ]
  },
  {
   "cell_type": "markdown",
   "id": "79b696f7-b118-49fa-96fa-9a39c3059f3f",
   "metadata": {},
   "source": [
    "### Quantifying the relationships"
   ]
  },
  {
   "cell_type": "code",
   "execution_count": null,
   "id": "3d0870c1-fd04-4abe-8ab3-8dc5e7d6d28f",
   "metadata": {},
   "outputs": [],
   "source": [
    "numerical_features = [\"credit_score\", \"age\", \"tenure\", \"balance\", \"estimated_salary\"]"
   ]
  },
  {
   "cell_type": "code",
   "execution_count": null,
   "id": "5d15959c-f973-4b63-86d9-96474df9f935",
   "metadata": {},
   "outputs": [],
   "source": [
    "ks_results = []\n",
    "for f in numerical_features:\n",
    "    ks_stat, p_value = ks_2samp(churn_df.loc[churn_df[\"churn\"] == 1, f], churn_df.loc[churn_df[\"churn\"] == 0, f])\n",
    "    ks_results.append({\n",
    "        \"Feature\": f,\n",
    "        \"KS stat\": ks_stat,\n",
    "        \"p-value\": p_value\n",
    "    })\n",
    "pd.DataFrame(ks_results)"
   ]
  },
  {
   "cell_type": "markdown",
   "id": "1d7d9337-f357-41eb-9dd8-b0f70fb96f14",
   "metadata": {},
   "source": [
    "- A high KS statistic (and a small p-value) indicates that the distributions of the feature are significantly different between the two classes. This suggests that the feature might be discriminative and useful for classification.\n",
    "- Conversely, a low KS statistic (and a large p-value) suggests that the feature has a similar distribution across both classes and may not be as informative."
   ]
  },
  {
   "cell_type": "code",
   "execution_count": null,
   "id": "1fb0ce96-7507-4c7a-9fd8-6fd64144c657",
   "metadata": {},
   "outputs": [],
   "source": [
    "categorical_features = [\"country\", \"gender\", \"products_number\", \"credit_card\", \"active_member\"]"
   ]
  },
  {
   "cell_type": "code",
   "execution_count": null,
   "id": "e66f7965-17ff-4a54-a5c5-8309478ffb22",
   "metadata": {},
   "outputs": [],
   "source": [
    "chi2_results = []\n",
    "for f in categorical_features:\n",
    "    onehot = OneHotEncoder(sparse=False)\n",
    "    t = onehot.fit_transform(churn_df[[f]])\n",
    "    values = onehot.categories_[0]\n",
    "    chi2_stats, p_values = chi2(t, churn_df[\"churn\"])\n",
    "    \n",
    "    for value, chi_stat, p_value in zip(values, chi2_stats, p_values):\n",
    "        chi2_results.append({\n",
    "            \"Feature\": f,\n",
    "            \"Value\": value,\n",
    "            \"Chi2 stat\": chi_stat,\n",
    "            \"p-value\": p_value\n",
    "        })\n",
    "pd.DataFrame(chi2_results)"
   ]
  },
  {
   "cell_type": "markdown",
   "id": "a1830dec-a6ec-4cc1-90ed-1763bd635f6a",
   "metadata": {},
   "source": [
    "- A feature with a high χ² value and a low p-value is considered to be more relevant for the classification task because it has a significant association with the target variable. Such a feature can potentially improve the performance of a classifier.\n",
    "- Conversely, a feature with a low χ² value and a high p-value might not be very informative for the classification task, as it doesn't seem to have a strong relationship with the target variable."
   ]
  },
  {
   "cell_type": "markdown",
   "id": "9b433378-fadd-4714-944f-931dc50c749e",
   "metadata": {},
   "source": [
    "### Training a first set of models and selecting the best using F1"
   ]
  },
  {
   "cell_type": "code",
   "execution_count": null,
   "id": "e3672283-e015-475f-9e79-05d24ceca86f",
   "metadata": {},
   "outputs": [],
   "source": [
    "features = [\"age\", \"balance\", \"country\", \"products_number\", \"active_member\"]"
   ]
  },
  {
   "cell_type": "code",
   "execution_count": null,
   "id": "87ac9bdc-0cf0-4f6a-a375-da0c71b80652",
   "metadata": {},
   "outputs": [],
   "source": [
    "pipeline = Pipeline([\n",
    "    (\"transformer\", ColumnTransformer([\n",
    "        (\"categorical\", OneHotEncoder(sparse=False), [\"country\"])\n",
    "    ], remainder=\"passthrough\")),\n",
    "    (\"classifier\",  RandomForestClassifier(random_state=10))\n",
    "]) "
   ]
  },
  {
   "cell_type": "code",
   "execution_count": null,
   "id": "dae27dfb-53cb-45b3-9eea-e629881dae81",
   "metadata": {},
   "outputs": [],
   "source": [
    "param_grid = {\n",
    "    \"classifier__n_estimators\": [50, 100, 150],\n",
    "    \"classifier__max_depth\" : [3, 4, 5, 6],\n",
    "    \"classifier__class_weight\": [\"balanced\", None]\n",
    "}"
   ]
  },
  {
   "cell_type": "code",
   "execution_count": null,
   "id": "e015ec32-5a65-4fa6-9a9a-d798e91d0590",
   "metadata": {},
   "outputs": [],
   "source": [
    "grid = GridSearchCV(estimator=pipeline, param_grid=param_grid, scoring=[\"precision\", \"recall\", \"f1\", \"roc_auc\"], refit=\"f1\", cv=5, return_train_score=True)"
   ]
  },
  {
   "cell_type": "code",
   "execution_count": null,
   "id": "fb78509e-1819-487e-bdda-9f1dafcbbf81",
   "metadata": {
    "tags": []
   },
   "outputs": [],
   "source": [
    "grid.fit(churn_df[features], churn_df[\"churn\"])"
   ]
  },
  {
   "cell_type": "code",
   "execution_count": null,
   "id": "8611f28c-1664-44f4-92ab-067acdafcbab",
   "metadata": {},
   "outputs": [],
   "source": [
    "grid.best_params_"
   ]
  },
  {
   "cell_type": "code",
   "execution_count": null,
   "id": "469a8f78-4958-415f-bab5-46edcd715c44",
   "metadata": {},
   "outputs": [],
   "source": [
    "best_results_df = pd.DataFrame(grid.cv_results_).iloc[grid.best_index_].reset_index().rename(columns={\"index\": \"result\", grid.best_index_: \"value\"})\n",
    "best_results_df = best_results_df.loc[best_results_df[\"result\"].str.contains(\"split\")]\n",
    "[best_results_df[\"split\"], best_results_df[\"dataset\"], best_results_df[\"metric\"]] = zip(*best_results_df[\"result\"].str.split(\"_\"))\n",
    "best_results_df[\"dataset\"].replace({\"test\": \"validation\"}, inplace=True)\n",
    "del best_results_df[\"result\"]"
   ]
  },
  {
   "cell_type": "code",
   "execution_count": null,
   "id": "4e932cae-08ed-46a0-a5e5-bb6ee655fdf7",
   "metadata": {},
   "outputs": [],
   "source": [
    "plt.figure(figsize=(8, 10))\n",
    "sns.boxplot(data=best_results_df, y=\"value\", x=\"metric\", hue=\"dataset\", showmeans=True)\n",
    "plt.show()"
   ]
  },
  {
   "cell_type": "code",
   "execution_count": null,
   "id": "56cb6d7f-9607-4fa5-baea-9b5c90238aa4",
   "metadata": {},
   "outputs": [],
   "source": [
    "train_val_preds = grid.best_estimator_.predict(churn_df[features])\n",
    "test_preds = grid.best_estimator_.predict(test_df[features])"
   ]
  },
  {
   "cell_type": "code",
   "execution_count": null,
   "id": "2b828cf0-baf6-4af2-a341-af9413e05d63",
   "metadata": {},
   "outputs": [],
   "source": [
    "fig, axes = plt.subplots(1, 2, figsize=(12, 5))\n",
    "\n",
    "train_val_cm = confusion_matrix(churn_df[\"churn\"], train_val_preds, labels=grid.best_estimator_.classes_, normalize=\"true\")\n",
    "train_val_disp = ConfusionMatrixDisplay(confusion_matrix=train_val_cm, display_labels=grid.best_estimator_.classes_)\n",
    "train_val_disp.plot(ax=axes[0])\n",
    "axes[0].set_title(\"Train/Val\")\n",
    "\n",
    "test_cm = confusion_matrix(test_df[\"churn\"], test_preds, labels=grid.best_estimator_.classes_, normalize=\"true\")\n",
    "test_disp = ConfusionMatrixDisplay(confusion_matrix=test_cm, display_labels=grid.best_estimator_.classes_)\n",
    "test_disp.plot(ax=axes[1])\n",
    "axes[1].set_title(\"Test\")\n",
    "\n",
    "plt.show()"
   ]
  },
  {
   "cell_type": "code",
   "execution_count": null,
   "id": "42e86927-13fb-496a-8048-33f67d15add2",
   "metadata": {},
   "outputs": [],
   "source": [
    "fig, axes = plt.subplots(1, 2, figsize=(12, 5))\n",
    "\n",
    "fpr, tpr, thresholds = roc_curve(churn_df[\"churn\"], train_val_preds)\n",
    "area = auc(fpr, tpr)\n",
    "train_val_disp = RocCurveDisplay(fpr=fpr, tpr=tpr, roc_auc=area)\n",
    "train_val_disp.plot(ax=axes[0])\n",
    "axes[0].set_title(\"Train/Val\")\n",
    "\n",
    "fpr, tpr, thresholds = roc_curve(test_df[\"churn\"], test_preds)\n",
    "area = auc(fpr, tpr)\n",
    "test_disp = RocCurveDisplay(fpr=fpr, tpr=tpr, roc_auc=area)\n",
    "test_disp.plot(ax=axes[1])\n",
    "axes[1].set_title(\"Test\")"
   ]
  },
  {
   "cell_type": "code",
   "execution_count": null,
   "id": "e14d4787-f632-44db-a414-602d70dd2bff",
   "metadata": {},
   "outputs": [],
   "source": [
    "print(\"Precision:\")\n",
    "print(\"- Train/Val:\", precision_score(churn_df[\"churn\"], train_val_preds))\n",
    "print(\"- Test:\", precision_score(test_df[\"churn\"], test_preds))\n",
    "print(\"\\nRecall:\")\n",
    "print(\"- Train/Val:\", recall_score(churn_df[\"churn\"], train_val_preds))\n",
    "print(\"- Test:\", recall_score(test_df[\"churn\"], test_preds))\n",
    "print(\"\\nF1:\")\n",
    "print(\"- Train/Val:\", f1_score(churn_df[\"churn\"], train_val_preds))\n",
    "print(\"- Test:\", f1_score(test_df[\"churn\"], test_preds))\n",
    "print(\"\\nROC AUC:\")\n",
    "print(\"- Train/Val:\", roc_auc_score(churn_df[\"churn\"], train_val_preds))\n",
    "print(\"- Test:\", roc_auc_score(test_df[\"churn\"], test_preds))"
   ]
  },
  {
   "cell_type": "code",
   "execution_count": null,
   "id": "f3c2341b-2ad1-48fc-9adb-d9de55e3713d",
   "metadata": {},
   "outputs": [],
   "source": [
    "test_probs = grid.best_estimator_.predict_proba(test_df[features])[:,1]\n",
    "probs_true_df = pd.DataFrame(np.append(test_probs.reshape(-1, 1), test_df[\"churn\"].values.reshape(-1, 1), axis=1), columns=[\"probs\", \"true\"])"
   ]
  },
  {
   "cell_type": "code",
   "execution_count": null,
   "id": "29561a61-c883-41ba-91a4-4ea296ee06e2",
   "metadata": {},
   "outputs": [],
   "source": [
    "plt.figure(figsize=(15, 9))\n",
    "sns.kdeplot(data=probs_true_df.loc[probs_true_df[\"true\"] == 1], x=\"probs\", bw_adjust=.3, label=\"1\")\n",
    "sns.kdeplot(data=probs_true_df.loc[probs_true_df[\"true\"] == 0], x=\"probs\", bw_adjust=.3, label=\"0\")\n",
    "plt.axvline(x=.5, color=\"r\", linestyle=\"--\")\n",
    "plt.legend()\n",
    "plt.show()"
   ]
  },
  {
   "cell_type": "markdown",
   "id": "423afd0e-1fec-4e1c-b4d8-f8669a61b9d6",
   "metadata": {},
   "source": [
    "### Exporting the pipeline"
   ]
  },
  {
   "cell_type": "code",
   "execution_count": null,
   "id": "9a11ae46-4c43-4349-9f80-933219a62090",
   "metadata": {
    "tags": []
   },
   "outputs": [],
   "source": [
    "dump(grid.best_estimator_, \"./churn-v1.0.joblib\")"
   ]
  },
  {
   "cell_type": "markdown",
   "id": "dca242cf-e452-41fa-a3b2-6b565b686bbf",
   "metadata": {},
   "source": [
    "### Explaining predictions"
   ]
  },
  {
   "cell_type": "code",
   "execution_count": null,
   "id": "6a6c77b7-b2d3-4ee8-adbb-770c300c7b36",
   "metadata": {},
   "outputs": [],
   "source": [
    "test_df[\"prob\"] = test_probs"
   ]
  },
  {
   "cell_type": "code",
   "execution_count": null,
   "id": "02cc024a-51d5-40d8-8bf9-65b2198949e4",
   "metadata": {},
   "outputs": [],
   "source": [
    "test_df.sort_values(by=\"prob\").head()"
   ]
  },
  {
   "cell_type": "code",
   "execution_count": null,
   "id": "b72e7465-9c80-4a8b-b07e-98dd1c6db5c0",
   "metadata": {},
   "outputs": [],
   "source": [
    "test_df.sort_values(by=\"prob\", ascending=False).head()"
   ]
  },
  {
   "cell_type": "code",
   "execution_count": null,
   "id": "091d8df6-e63b-42fd-8963-5beccb064c37",
   "metadata": {},
   "outputs": [],
   "source": [
    "test_df.loc[(test_df[\"prob\"] > 0.47) & (test_df[\"prob\"] < 0.53)].head()"
   ]
  },
  {
   "cell_type": "code",
   "execution_count": null,
   "id": "c9b15f18-1503-4b2d-a0ee-a47ccdce500f",
   "metadata": {},
   "outputs": [],
   "source": [
    "X_t = pd.DataFrame(\n",
    "    grid.best_estimator_[\"transformer\"].fit_transform(test_df[features]),\n",
    "    columns=[f.split(\"__\")[1] for f in grid.best_estimator_[\"transformer\"].get_feature_names_out()]\n",
    ")"
   ]
  },
  {
   "cell_type": "code",
   "execution_count": null,
   "id": "53d25f80-c5f9-4bc0-9eb0-ef755d59c495",
   "metadata": {
    "tags": []
   },
   "outputs": [],
   "source": [
    "def model(X):\n",
    "    return grid.best_estimator_[\"classifier\"].predict_proba(X)[:,1]\n",
    "\n",
    "explainer = shap.Explainer(model, X_t)\n",
    "shap_values = explainer(X_t)"
   ]
  },
  {
   "cell_type": "markdown",
   "id": "c7182e44-5cdb-472e-a795-7382d991e049",
   "metadata": {},
   "source": [
    "**Explaining individual predictions:**"
   ]
  },
  {
   "cell_type": "code",
   "execution_count": null,
   "id": "37294cd5-e79c-4a18-b90b-1b588899e8f2",
   "metadata": {},
   "outputs": [],
   "source": [
    "shap.plots.waterfall(shap_values[837])"
   ]
  },
  {
   "cell_type": "code",
   "execution_count": null,
   "id": "8617e79a-f411-4fe1-83bb-d994fc900b4c",
   "metadata": {},
   "outputs": [],
   "source": [
    "shap.plots.waterfall(shap_values[148])"
   ]
  },
  {
   "cell_type": "code",
   "execution_count": null,
   "id": "c06ced4d-ec46-4214-babe-9ab8e714dfc2",
   "metadata": {},
   "outputs": [],
   "source": [
    "shap.plots.waterfall(shap_values[4])"
   ]
  },
  {
   "cell_type": "code",
   "execution_count": null,
   "id": "5028ffa5-cb4a-443f-b541-e95cbddf3d56",
   "metadata": {},
   "outputs": [],
   "source": [
    "shap.plots.waterfall(shap_values[7])"
   ]
  },
  {
   "cell_type": "markdown",
   "id": "8f88b23d-578c-47d9-8658-740c88b4033b",
   "metadata": {},
   "source": [
    "**Explaining all instances:**"
   ]
  },
  {
   "cell_type": "code",
   "execution_count": null,
   "id": "2efab627-c5e3-410a-a101-7c30705324d0",
   "metadata": {},
   "outputs": [],
   "source": [
    "shap.summary_plot(shap_values, plot_type=\"violin\")"
   ]
  },
  {
   "cell_type": "code",
   "execution_count": null,
   "id": "ae7992d9-e653-4366-b529-93797fe2c7de",
   "metadata": {},
   "outputs": [],
   "source": []
  }
 ],
 "metadata": {
  "kernelspec": {
   "display_name": "env",
   "language": "python",
   "name": "python3"
  },
  "language_info": {
   "codemirror_mode": {
    "name": "ipython",
    "version": 3
   },
   "file_extension": ".py",
   "mimetype": "text/x-python",
   "name": "python",
   "nbconvert_exporter": "python",
   "pygments_lexer": "ipython3",
   "version": "3.11.4"
  }
 },
 "nbformat": 4,
 "nbformat_minor": 5
}
